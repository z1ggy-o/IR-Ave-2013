{
 "cells": [
  {
   "cell_type": "markdown",
   "metadata": {},
   "source": [
    "# Rank documents with user query"
   ]
  },
  {
   "cell_type": "markdown",
   "metadata": {},
   "source": [
    "## Second matching according to order"
   ]
  },
  {
   "cell_type": "code",
   "execution_count": 1,
   "metadata": {},
   "outputs": [],
   "source": [
    "query = 'you can\\'t decline'"
   ]
  },
  {
   "cell_type": "code",
   "execution_count": 2,
   "metadata": {},
   "outputs": [],
   "source": [
    "import os\n",
    "\n",
    "dir = os.getcwd()\n",
    "file_list = os.listdir(dir)\n",
    "file_list = [file for file in file_list if file.endswith('.txt')]\n",
    "file_name = [name.split('.')[0] for name in file_list]"
   ]
  },
  {
   "cell_type": "code",
   "execution_count": 3,
   "metadata": {},
   "outputs": [],
   "source": [
    "import re\n",
    "\n",
    "script_list = []\n",
    "\n",
    "for name in file_list:\n",
    "    f = open(name, 'r')\n",
    "    script = f.read()\n",
    "    script = re.sub('[\\n]', ' ', script)\n",
    "    script_list.append(script)\n",
    "    f.close()"
   ]
  },
  {
   "cell_type": "code",
   "execution_count": 4,
   "metadata": {},
   "outputs": [
    {
     "name": "stdout",
     "output_type": "stream",
     "text": [
      "8\n"
     ]
    }
   ],
   "source": [
    "print(len(script_list))"
   ]
  },
  {
   "cell_type": "code",
   "execution_count": 5,
   "metadata": {},
   "outputs": [
    {
     "name": "stdout",
     "output_type": "stream",
     "text": [
      "{'you': 0.25, \"can't\": 0.5, 'decline': 0.75}\n",
      "[0.25, 0.5, 0.75]\n"
     ]
    }
   ],
   "source": [
    "query = query.split(' ')\n",
    "\n",
    "query_term_weight = {}\n",
    "query_weight = []\n",
    "a = 1 / (len(query) + 1)\n",
    "for i in range(len(query)):\n",
    "    query_term_weight[query[i]] = 0 + a * (i+1)\n",
    "    query_weight.append(0 + a * (i+1))\n",
    "print(query_term_weight)\n",
    "print(query_weight)"
   ]
  },
  {
   "cell_type": "markdown",
   "metadata": {},
   "source": [
    "## give the same weight if the term is same"
   ]
  },
  {
   "cell_type": "code",
   "execution_count": 6,
   "metadata": {},
   "outputs": [
    {
     "name": "stdout",
     "output_type": "stream",
     "text": [
      "8\n"
     ]
    }
   ],
   "source": [
    "script_weight = []\n",
    "script = []\n",
    "\n",
    "for i in range(len(script_list)):\n",
    "    script.append(script_list[i].split(' '))\n",
    "print(len(script))"
   ]
  },
  {
   "cell_type": "markdown",
   "metadata": {},
   "source": [
    "### cosine similarity"
   ]
  },
  {
   "cell_type": "code",
   "execution_count": 7,
   "metadata": {},
   "outputs": [],
   "source": [
    "from numpy import dot\n",
    "from numpy.linalg import norm\n",
    "import numpy as np\n",
    "def cos_sim(A, B):\n",
    "       return round(dot(A, B)/(norm(A)*norm(B)), 3)"
   ]
  },
  {
   "cell_type": "code",
   "execution_count": 8,
   "metadata": {},
   "outputs": [
    {
     "name": "stdout",
     "output_type": "stream",
     "text": [
      "0.929 0.714 0.786 0.929 0.786\n"
     ]
    }
   ],
   "source": [
    "a = np.asarray([0.25,0.5,0.75]) # I love you \n",
    "b = np.asarray([0.5, 0.25 ,0.75]) # love I you\n",
    "c = np.asarray([0.75, 0.5, 0.25]) # you love I\n",
    "d = np.asarray([0.5,0.75,0.25]) # you I love\n",
    "e = np.asarray([0.25,0.75,0.5]) # I you love\n",
    "f = np.asarray([0.75, 0.25, 0.5]) # love you I\n",
    "print(cos_sim(a,b), cos_sim(a,c), cos_sim(a,d), cos_sim(a,e), cos_sim(a,f))"
   ]
  },
  {
   "cell_type": "code",
   "execution_count": 9,
   "metadata": {},
   "outputs": [
    {
     "name": "stdout",
     "output_type": "stream",
     "text": [
      "8\n",
      "[[0.2559366754617414, 0.891820580474934, 0], [0.26987951807228916, 0, 0], [0.17624521072796934, 0, 0], [0, 0, 0], [0, 0, 0], [0.8086124401913876, 0.15789473684210525, 0.16267942583732056], [0.16078431372549018, 0, 0.16862745098039217], [0.5963855421686747, 0.8373493975903615, 0.8734939759036146]]\n"
     ]
    }
   ],
   "source": [
    "for i in range(len(script)):\n",
    "    script_term_weight = {}\n",
    "    temp = []\n",
    "    for j in range(len(script[i])):\n",
    "        a = 1 / (len(script[i]) + 1)\n",
    "        if script[i][j] not in script_term_weight.keys():\n",
    "            script_term_weight[script[i][j]] = 0 + a * (j+1)\n",
    "    \n",
    "    for k in range(len(query)):\n",
    "        try:\n",
    "            temp.append(script_term_weight[query[k]])\n",
    "        except KeyError:\n",
    "            temp.append(0)\n",
    "    script_weight.append(temp)\n",
    "print(len(script_weight))\n",
    "print(script_weight)"
   ]
  },
  {
   "cell_type": "code",
   "execution_count": 10,
   "metadata": {},
   "outputs": [
    {
     "name": "stdout",
     "output_type": "stream",
     "text": [
      "[0.588, 0.267, 0.267, nan, nan, 0.513, 0.765, 0.969]\n"
     ]
    },
    {
     "name": "stderr",
     "output_type": "stream",
     "text": [
      "C:\\ProgramData\\Anaconda3\\lib\\site-packages\\ipykernel_launcher.py:5: RuntimeWarning: invalid value encountered in double_scalars\n",
      "  \"\"\"\n"
     ]
    }
   ],
   "source": [
    "similarity = []\n",
    "for i in range(len(script_weight)):\n",
    "    similarity.append(cos_sim(query_weight, script_weight[i]))\n",
    "print(similarity)"
   ]
  },
  {
   "cell_type": "markdown",
   "metadata": {},
   "source": [
    "## after normalize"
   ]
  },
  {
   "cell_type": "code",
   "execution_count": 20,
   "metadata": {},
   "outputs": [
    {
     "name": "stdout",
     "output_type": "stream",
     "text": [
      "[-1.224744871391589, 0.0, 1.224744871391589]\n",
      "[[76, 175, 191], [78, 144, 144], [43, 128, 128], [137, 137, 137], [95, 95, 95], [120, 31, 32], [50, 132, 53], [80, 105, 111]]\n"
     ]
    }
   ],
   "source": [
    "normalize_weight = []\n",
    "normalize_query_weight = []\n",
    "\n",
    "query_mean = np.mean(query_weight)\n",
    "query_std = np.std(query_weight)\n",
    "for i in range(len(query_weight)):\n",
    "    normalize_query_weight.append((query_weight[i] - query_mean) / query_std)\n",
    "    \n",
    "index = []\n",
    "    \n",
    "for i in range(len(script)):\n",
    "    script_term_weight = {}\n",
    "    temp = []\n",
    "    \n",
    "    for j in range(len(script[i])):\n",
    "        a = 1 / (len(script[i]) + 1)\n",
    "        if script[i][j] not in script_term_weight.keys():\n",
    "            script_term_weight[script[i][j]] = 0 + a * (j+1)\n",
    "    weight = list(script_term_weight.values())\n",
    "    mean = np.mean(weight)\n",
    "    std = np.std(weight)\n",
    "    for j in range(len(weight)):\n",
    "        temp.append((weight[j] - mean) / std)\n",
    "        \n",
    "    key = list(script_term_weight.keys())\n",
    "    key_index = []\n",
    "    for k in range(len(query)):\n",
    "        try:\n",
    "            key_index.append(key.index(query[k]))\n",
    "        except ValueError:\n",
    "            key_index.append(len(key) + 1)\n",
    "    index.append(key_index)\n",
    "    normalize_weight.append(temp)\n",
    "\n",
    "\n",
    "print(normalize_query_weight)\n",
    "print(index)\n",
    "#print(normalize_weight)"
   ]
  },
  {
   "cell_type": "code",
   "execution_count": 31,
   "metadata": {},
   "outputs": [],
   "source": [
    "normalize_doc_weight = []\n",
    "for i in range(len(normalize_weight)):\n",
    "    temp = []\n",
    "    for j in range(len(index[i])):\n",
    "        try: \n",
    "            temp.append(normalize_weight[i][index[i][j]])\n",
    "        except IndexError:\n",
    "            temp.append(0)\n",
    "    normalize_doc_weight.append(temp)"
   ]
  },
  {
   "cell_type": "code",
   "execution_count": 33,
   "metadata": {},
   "outputs": [
    {
     "name": "stdout",
     "output_type": "stream",
     "text": [
      "[-0.47397747605467533, 1.7669547519828652, 0]\n",
      "[-0.2060446196310617, 0, 0]\n",
      "[-0.6698053803469881, 0, 0]\n",
      "[0, 0, 0]\n",
      "[0, 0, 0]\n",
      "[1.7453017947889093, -0.859455191264322, -0.8403025663668718]\n",
      "[-0.679837803105038, 0, -0.6412299122600136]\n",
      "[0.5945251517415522, 1.4849695365319986, 1.6185361942505656]\n",
      "[0.183, 0.707, 0.707, nan, nan, -0.863, 0.029, 0.318]\n"
     ]
    },
    {
     "name": "stderr",
     "output_type": "stream",
     "text": [
      "C:\\ProgramData\\Anaconda3\\lib\\site-packages\\ipykernel_launcher.py:5: RuntimeWarning: invalid value encountered in double_scalars\n",
      "  \"\"\"\n"
     ]
    }
   ],
   "source": [
    "normalize_similarity = []\n",
    "for i in range(len(normalize_doc_weight)):\n",
    "    print(normalize_doc_weight[i])\n",
    "    normalize_similarity.append(cos_sim(normalize_query_weight, normalize_doc_weight[i]))\n",
    "print(normalize_similarity)"
   ]
  },
  {
   "cell_type": "code",
   "execution_count": 34,
   "metadata": {},
   "outputs": [
    {
     "name": "stdout",
     "output_type": "stream",
     "text": [
      "[0.183, 0.707, 0.707, nan, nan, -0.863, 0.029, 0.318]\n",
      "[0.588, 0.267, 0.267, nan, nan, 0.513, 0.765, 0.969]\n"
     ]
    }
   ],
   "source": [
    "print(normalize_similarity)\n",
    "print(similarity)"
   ]
  },
  {
   "cell_type": "code",
   "execution_count": null,
   "metadata": {},
   "outputs": [],
   "source": []
  }
 ],
 "metadata": {
  "kernelspec": {
   "display_name": "Python 3",
   "language": "python",
   "name": "python3"
  },
  "language_info": {
   "codemirror_mode": {
    "name": "ipython",
    "version": 3
   },
   "file_extension": ".py",
   "mimetype": "text/x-python",
   "name": "python",
   "nbconvert_exporter": "python",
   "pygments_lexer": "ipython3",
   "version": "3.6.6"
  }
 },
 "nbformat": 4,
 "nbformat_minor": 2
}
