{
 "cells": [
  {
   "cell_type": "markdown",
   "metadata": {},
   "source": [
    "## Document at a time\n",
    "\n",
    "1. Proces sdocuments to get terms' $tf$ of each documents.\n",
    "2. Go through all documents' terms to get $df$.\n",
    "3. Compute weight of each document, combine them to VSM.\n",
    "4. Convert query to a tf-idf-weighted vector  \n",
    "(idf is the global component)\n",
    "5. Computer score for each documents so we can rank them.\n",
    "\n",
    "- For computing $tf$ in each doc, we need iterate all words in all documents\n",
    "- For terms' $df$ we need go through all processed list.\n",
    "- Then we go through the $tf$ lists of docs again to compute the $tf$-$idf$ weight\n",
    "- Finally we can compute the socre use docs weight vector and query's weight vector\n",
    "\n",
    "The docs weight vectors just need to computer once. Every query can use the docs weight vectors to do the search.\n",
    "\n",
    "The problem is for any query we handle, no matter if the doc contains the terms in query or not, we need to compute the score. If we have $n$ docs, the time complexity is $O(n)$\n",
    "\n",
    "\n",
    "## Term at a time\n",
    "\n",
    "Because the documents containing non of the query keywords do not affec the final ranking. We do not need to compute the scores of them. If we just retrieve the documents that contain query keywords may reduce much computing time.\n",
    "\n",
    "- Create inverted index\n",
    "  - $tf$ of each docs (from last homework)\n",
    "  - Count $df$ \n",
    "- Compute length of documents\n",
    "- Compute score term by term\n",
    "\n",
    "How to compute score term by term instead of use vector doc production?\n",
    "\n",
    "To compute cosine we have: \n",
    "$$\\cos\\theta = \\frac{d \\dot q}{|d||q|}$$\n",
    "since in $|V|$-vector most of elements are $0$, we can just compute the non-zero element in query with their corresponding elements in doc vectors. Use this strategy we can save a lot computing."
   ]
  },
  {
   "cell_type": "markdown",
   "metadata": {},
   "source": [
    "Optimation:\n",
    "\n",
    "use inverted index\n",
    "\n",
    "ju"
   ]
  }
 ],
 "metadata": {
  "kernelspec": {
   "display_name": "Python 3",
   "language": "python",
   "name": "python3"
  },
  "language_info": {
   "codemirror_mode": {
    "name": "ipython",
    "version": 3
   },
   "file_extension": ".py",
   "mimetype": "text/x-python",
   "name": "python",
   "nbconvert_exporter": "python",
   "pygments_lexer": "ipython3",
   "version": "3.6.5"
  }
 },
 "nbformat": 4,
 "nbformat_minor": 2
}
