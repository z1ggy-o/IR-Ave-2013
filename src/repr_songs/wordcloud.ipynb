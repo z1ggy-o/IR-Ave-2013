{
 "cells": [
  {
   "cell_type": "code",
   "execution_count": null,
   "metadata": {},
   "outputs": [],
   "source": [
    "import matplotlib.pyplot as plt\n",
    "from wordcloud import WordCloud\n",
    "from PIL import Image"
   ]
  },
  {
   "cell_type": "code",
   "execution_count": null,
   "metadata": {},
   "outputs": [],
   "source": [
    "## dict 형식은 {term or artist : 'value'} 형식으로 들어감\n",
    "def gen_wordcloud(dict):\n",
    "\n",
    "    \n",
    "    icon = Image.open('singer.jpg')\n",
    "    mask = Image.new(\"RGB\", icon.size, (255,255,255))\n",
    "    mask.paste(icon)\n",
    "    mask = np.array(mask)\n",
    "       \n",
    "    wordcloud = WordCloud(background_color = 'white', mask=mask).generate_from_frequencies(dict)\n",
    "\n",
    "    plt.imshow(mask, cmap=plt.cm.gray)\n",
    "    \n",
    "\n",
    "    plt.figure(figsize=(12,12))\n",
    "    plt.imshow(wordcloud, interpolation = 'bilinear')\n",
    "    plt.axis('off')\n",
    "    plt.show()"
   ]
  }
 ],
 "metadata": {
  "kernelspec": {
   "display_name": "Python 3",
   "language": "python",
   "name": "python3"
  },
  "language_info": {
   "codemirror_mode": {
    "name": "ipython",
    "version": 3
   },
   "file_extension": ".py",
   "mimetype": "text/x-python",
   "name": "python",
   "nbconvert_exporter": "python",
   "pygments_lexer": "ipython3",
   "version": "3.7.1"
  }
 },
 "nbformat": 4,
 "nbformat_minor": 2
}
